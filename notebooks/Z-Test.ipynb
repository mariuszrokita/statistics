{
 "cells": [
  {
   "cell_type": "code",
   "execution_count": 1,
   "metadata": {
    "ExecuteTime": {
     "end_time": "2020-12-23T21:27:03.289173Z",
     "start_time": "2020-12-23T21:27:03.223266Z"
    }
   },
   "outputs": [
    {
     "name": "stdout",
     "output_type": "stream",
     "text": [
      "Python 3.7.9\n"
     ]
    }
   ],
   "source": [
    "!python --version"
   ]
  },
  {
   "cell_type": "code",
   "execution_count": 2,
   "metadata": {
    "ExecuteTime": {
     "end_time": "2020-12-23T21:27:23.866916Z",
     "start_time": "2020-12-23T21:27:14.325367Z"
    }
   },
   "outputs": [],
   "source": [
    "import os\n",
    "import statsmodels.api as sm\n",
    "import matplotlib.pyplot as plt\n",
    "import pandas as pd\n",
    "import numpy as np\n",
    "from sklearn.preprocessing import scale\n",
    "\n",
    "import researchpy as rp\n",
    "from scipy import stats"
   ]
  },
  {
   "cell_type": "markdown",
   "metadata": {},
   "source": [
    "References:\n",
    "* [Two proportions Z-Test](https://www.statisticshowto.com/z-test/#:~:text=This%20tests%20for%20a%20difference,proportions%20are%20not%20the%20same.)"
   ]
  },
  {
   "cell_type": "markdown",
   "metadata": {},
   "source": [
    "# One Sample Z-Test\n",
    "\n",
    "This example is based on the one presented on the [youtube](https://www.youtube.com/watch?v=FU9UR9XVZwc)."
   ]
  },
  {
   "cell_type": "markdown",
   "metadata": {},
   "source": [
    "H0: mean = 100\n",
    "\n",
    "HA: mean > 100\n",
    "\n",
    "alpha = 0.05"
   ]
  },
  {
   "cell_type": "code",
   "execution_count": 3,
   "metadata": {},
   "outputs": [
    {
     "name": "stdout",
     "output_type": "stream",
     "text": [
      "H0 rejected, H1 accepted\n"
     ]
    }
   ],
   "source": [
    "import math\n",
    "import scipy.stats as st\n",
    "\n",
    "sample_mean = 112\n",
    "\n",
    "pop_mean = 100\n",
    "pop_std = 15\n",
    "\n",
    "n = 30\n",
    "\n",
    "\n",
    "Z = (sample_mean - pop_mean) / (pop_std / math.sqrt(n))\n",
    "\n",
    "Z_score_at_alpha_005 = st.norm.ppf(.95)\n",
    "if Z >= Z_score_at_alpha_005:\n",
    "    print(\"H0 rejected, H1 accepted\")\n",
    "else:\n",
    "    print(\"No evidence to reject H0\")"
   ]
  },
  {
   "cell_type": "code",
   "execution_count": 4,
   "metadata": {},
   "outputs": [],
   "source": [
    "from statsmodels.stats import weightstats as stests"
   ]
  },
  {
   "cell_type": "markdown",
   "metadata": {},
   "source": [
    "# Two Proportion Z-Test"
   ]
  },
  {
   "cell_type": "markdown",
   "metadata": {},
   "source": [
    "## Example 1\n",
    "\n",
    "It's based on the example available on the [youtube](https://www.youtube.com/watch?v=_58qBy9Uxks)."
   ]
  },
  {
   "cell_type": "markdown",
   "metadata": {},
   "source": [
    "H0: two proportions are the same\n",
    "\n",
    "H1: two proportions are not the same\n",
    "\n",
    "alpha = 0.05"
   ]
  },
  {
   "cell_type": "code",
   "execution_count": 6,
   "metadata": {},
   "outputs": [
    {
     "name": "stdout",
     "output_type": "stream",
     "text": [
      "Z= -8.985900954503084\n",
      "H0 rejected, H1 accepted\n"
     ]
    }
   ],
   "source": [
    "p1 = 41/195\n",
    "p2 = 351/605\n",
    "\n",
    "n1 = 195\n",
    "n2 = 605\n",
    "\n",
    "p_hat = (41 + 351) / (195 + 605)\n",
    "\n",
    "Z = (p1 - p2 - 0) / math.sqrt(p_hat*(1-p_hat)*(1/n1 + 1/n2))\n",
    "print(\"Z=\", Z)\n",
    "\n",
    "Z_score_at_alpha_005 = st.norm.ppf(.95)\n",
    "if Z <= Z_score_at_alpha_005:\n",
    "    print(\"H0 rejected, H1 accepted\")\n",
    "else:\n",
    "    print(\"No evidence to reject H0\")"
   ]
  },
  {
   "cell_type": "markdown",
   "metadata": {},
   "source": [
    "## Example 2"
   ]
  },
  {
   "cell_type": "code",
   "execution_count": 12,
   "metadata": {},
   "outputs": [
    {
     "name": "stdout",
     "output_type": "stream",
     "text": [
      "Z= -0.9840281140813343\n",
      "Z for alpha 0.05 = 1.6448536269514722\n",
      "No evidence to reject H0\n"
     ]
    }
   ],
   "source": [
    "n1 = 2393\n",
    "n2 = 2470\n",
    "\n",
    "p1 = 42/n1\n",
    "p2 = 53/n2\n",
    "\n",
    "p_hat = (42 + 53) / (n1 + n2)\n",
    "\n",
    "Z = (p1 - p2 - 0) / math.sqrt(p_hat*(1-p_hat)*(1/n1 + 1/n2))\n",
    "Z_score_at_alpha_005 = st.norm.ppf(.95)\n",
    "\n",
    "print(\"Z=\", Z)\n",
    "print(\"Z for alpha 0.05 =\", Z_score_at_alpha_005)\n",
    "\n",
    "if Z >= Z_score_at_alpha_005:\n",
    "    print(\"H0 rejected, H1 accepted\")\n",
    "else:\n",
    "    print(\"No evidence to reject H0\")"
   ]
  }
 ],
 "metadata": {
  "kernelspec": {
   "display_name": "Python 3",
   "language": "python",
   "name": "python3"
  },
  "language_info": {
   "codemirror_mode": {
    "name": "ipython",
    "version": 3
   },
   "file_extension": ".py",
   "mimetype": "text/x-python",
   "name": "python",
   "nbconvert_exporter": "python",
   "pygments_lexer": "ipython3",
   "version": "3.7.9"
  },
  "toc": {
   "base_numbering": 1,
   "nav_menu": {},
   "number_sections": true,
   "sideBar": true,
   "skip_h1_title": false,
   "title_cell": "Table of Contents",
   "title_sidebar": "Contents",
   "toc_cell": false,
   "toc_position": {},
   "toc_section_display": true,
   "toc_window_display": false
  }
 },
 "nbformat": 4,
 "nbformat_minor": 4
}
