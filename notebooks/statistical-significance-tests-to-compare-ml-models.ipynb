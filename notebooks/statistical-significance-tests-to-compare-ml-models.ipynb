{
 "cells": [
  {
   "cell_type": "markdown",
   "metadata": {},
   "source": [
    "# Wykorzystanie testów istotności statystycznej do porównania wyników modeli uczenia maszynowego"
   ]
  },
  {
   "cell_type": "markdown",
   "metadata": {},
   "source": [
    "Niniejszy notatnik jest inspirowany dwoma wpisami Jasona Brownlee: \n",
    "- [How to Use Statistical Significance Tests to Interpret Machine Learning Results](https://machinelearningmastery.com/use-statistical-significance-tests-interpret-machine-learning-results/)\n",
    "- [Statistical Significance Tests for Comparing Machine Learning Algorithms](https://machinelearningmastery.com/statistical-significance-tests-for-comparing-machine-learning-algorithms/)\n",
    "\n",
    "oraz pracą magisterską Krzysztofa Dobosza:\n",
    "- [Statystyczne testy oceny istotności różnic w wynikach uzyskiwanych przez różne systemy uczące się](http://fizyka.umk.pl/publications/kmk/Prace-Mgr/Krzysztof%20Dobosz%20-%20Praca%20magisterska.pdf)"
   ]
  },
  {
   "cell_type": "markdown",
   "metadata": {},
   "source": [
    "# Opis problemu"
   ]
  },
  {
   "cell_type": "markdown",
   "metadata": {},
   "source": [
    "Załóżmy, że w [czasie prac](https://github.com/mariuszrokita/machine-learning-model-deployment/blob/master/ModelDevelopment/Titanic.ipynb) udało nam się stworzyć dwa modele uczenia maszynowego. Jakość obu modelów została oszacowana poprzez zastosowanie K-krotnej walidacji krzyżowej.\n",
    "\n",
    "Wyniki *accuracy* dla obu modeli są następujące:\n",
    "\n",
    "**Model A:**\n",
    "\n",
    "`[0.734375, 0.82539683, 0.88709677, 0.82258065, 0.67741935, \n",
    "0.70967742, 0.79032258, 0.77419355, 0.80645161, 0.90322581]`\n",
    "\n",
    "Mean: 0.7930739567332309, STD: 0.06870856655624873\n",
    "\n",
    "**Model B:**\n",
    "\n",
    "`[0.796875, 0.79365079, 0.88709677, 0.85483871, 0.80645161, \n",
    "0.75806452, 0.80645161, 0.80645161, 0.74193548, 0.91935484]`\n",
    "\n",
    "Mean: 0.8171170954941116, STD: 0.05216682941303683"
   ]
  },
  {
   "cell_type": "markdown",
   "metadata": {},
   "source": [
    "**Pytanie:** \n",
    "\n",
    "Czy wyniki jednego i drugiego modelu różnią się istotnie od siebie?"
   ]
  },
  {
   "cell_type": "markdown",
   "metadata": {},
   "source": [
    "# Analiza uzyskanych wyników"
   ]
  },
  {
   "cell_type": "code",
   "execution_count": 1,
   "metadata": {
    "ExecuteTime": {
     "end_time": "2019-04-13T06:16:53.716201Z",
     "start_time": "2019-04-13T06:16:53.108603Z"
    }
   },
   "outputs": [],
   "source": [
    "import numpy as np\n",
    "import pandas as pd\n",
    "import matplotlib.pyplot as plt\n",
    "\n",
    "%config InlineBackend.figure_format = 'retina'"
   ]
  },
  {
   "cell_type": "markdown",
   "metadata": {},
   "source": [
    "## Załadowanie danych"
   ]
  },
  {
   "cell_type": "code",
   "execution_count": 2,
   "metadata": {
    "ExecuteTime": {
     "end_time": "2019-04-13T06:16:53.737326Z",
     "start_time": "2019-04-13T06:16:53.718136Z"
    }
   },
   "outputs": [
    {
     "data": {
      "text/html": [
       "<div>\n",
       "<style scoped>\n",
       "    .dataframe tbody tr th:only-of-type {\n",
       "        vertical-align: middle;\n",
       "    }\n",
       "\n",
       "    .dataframe tbody tr th {\n",
       "        vertical-align: top;\n",
       "    }\n",
       "\n",
       "    .dataframe thead th {\n",
       "        text-align: right;\n",
       "    }\n",
       "</style>\n",
       "<table border=\"1\" class=\"dataframe\">\n",
       "  <thead>\n",
       "    <tr style=\"text-align: right;\">\n",
       "      <th></th>\n",
       "      <th>A</th>\n",
       "      <th>B</th>\n",
       "    </tr>\n",
       "  </thead>\n",
       "  <tbody>\n",
       "    <tr>\n",
       "      <th>0</th>\n",
       "      <td>0.734375</td>\n",
       "      <td>0.796875</td>\n",
       "    </tr>\n",
       "    <tr>\n",
       "      <th>1</th>\n",
       "      <td>0.825397</td>\n",
       "      <td>0.793651</td>\n",
       "    </tr>\n",
       "    <tr>\n",
       "      <th>2</th>\n",
       "      <td>0.887097</td>\n",
       "      <td>0.887097</td>\n",
       "    </tr>\n",
       "    <tr>\n",
       "      <th>3</th>\n",
       "      <td>0.822581</td>\n",
       "      <td>0.854839</td>\n",
       "    </tr>\n",
       "    <tr>\n",
       "      <th>4</th>\n",
       "      <td>0.677419</td>\n",
       "      <td>0.806452</td>\n",
       "    </tr>\n",
       "    <tr>\n",
       "      <th>5</th>\n",
       "      <td>0.709677</td>\n",
       "      <td>0.758065</td>\n",
       "    </tr>\n",
       "    <tr>\n",
       "      <th>6</th>\n",
       "      <td>0.790323</td>\n",
       "      <td>0.806452</td>\n",
       "    </tr>\n",
       "    <tr>\n",
       "      <th>7</th>\n",
       "      <td>0.774194</td>\n",
       "      <td>0.806452</td>\n",
       "    </tr>\n",
       "    <tr>\n",
       "      <th>8</th>\n",
       "      <td>0.806452</td>\n",
       "      <td>0.741935</td>\n",
       "    </tr>\n",
       "    <tr>\n",
       "      <th>9</th>\n",
       "      <td>0.903226</td>\n",
       "      <td>0.919355</td>\n",
       "    </tr>\n",
       "  </tbody>\n",
       "</table>\n",
       "</div>"
      ],
      "text/plain": [
       "          A         B\n",
       "0  0.734375  0.796875\n",
       "1  0.825397  0.793651\n",
       "2  0.887097  0.887097\n",
       "3  0.822581  0.854839\n",
       "4  0.677419  0.806452\n",
       "5  0.709677  0.758065\n",
       "6  0.790323  0.806452\n",
       "7  0.774194  0.806452\n",
       "8  0.806452  0.741935\n",
       "9  0.903226  0.919355"
      ]
     },
     "execution_count": 2,
     "metadata": {},
     "output_type": "execute_result"
    }
   ],
   "source": [
    "results = pd.DataFrame()\n",
    "\n",
    "# performance results for model A\n",
    "results['A'] = [0.734375, 0.82539683, 0.88709677, 0.82258065, 0.67741935, \n",
    "                0.70967742, 0.79032258, 0.77419355, 0.80645161, 0.90322581]\n",
    "# performance results for model B\n",
    "results['B'] = [0.796875, 0.79365079, 0.88709677, 0.85483871, 0.80645161, \n",
    "                0.75806452, 0.80645161, 0.80645161, 0.74193548, 0.91935484]\n",
    "\n",
    "results"
   ]
  },
  {
   "cell_type": "markdown",
   "metadata": {},
   "source": [
    "## Analiza wyników"
   ]
  },
  {
   "cell_type": "code",
   "execution_count": 3,
   "metadata": {
    "ExecuteTime": {
     "end_time": "2019-04-13T06:16:53.756560Z",
     "start_time": "2019-04-13T06:16:53.739179Z"
    }
   },
   "outputs": [
    {
     "data": {
      "text/html": [
       "<div>\n",
       "<style scoped>\n",
       "    .dataframe tbody tr th:only-of-type {\n",
       "        vertical-align: middle;\n",
       "    }\n",
       "\n",
       "    .dataframe tbody tr th {\n",
       "        vertical-align: top;\n",
       "    }\n",
       "\n",
       "    .dataframe thead th {\n",
       "        text-align: right;\n",
       "    }\n",
       "</style>\n",
       "<table border=\"1\" class=\"dataframe\">\n",
       "  <thead>\n",
       "    <tr style=\"text-align: right;\">\n",
       "      <th></th>\n",
       "      <th>A</th>\n",
       "      <th>B</th>\n",
       "    </tr>\n",
       "  </thead>\n",
       "  <tbody>\n",
       "    <tr>\n",
       "      <th>count</th>\n",
       "      <td>10.000000</td>\n",
       "      <td>10.000000</td>\n",
       "    </tr>\n",
       "    <tr>\n",
       "      <th>mean</th>\n",
       "      <td>0.793074</td>\n",
       "      <td>0.817117</td>\n",
       "    </tr>\n",
       "    <tr>\n",
       "      <th>std</th>\n",
       "      <td>0.072425</td>\n",
       "      <td>0.054989</td>\n",
       "    </tr>\n",
       "    <tr>\n",
       "      <th>min</th>\n",
       "      <td>0.677419</td>\n",
       "      <td>0.741935</td>\n",
       "    </tr>\n",
       "    <tr>\n",
       "      <th>25%</th>\n",
       "      <td>0.744330</td>\n",
       "      <td>0.794457</td>\n",
       "    </tr>\n",
       "    <tr>\n",
       "      <th>50%</th>\n",
       "      <td>0.798387</td>\n",
       "      <td>0.806452</td>\n",
       "    </tr>\n",
       "    <tr>\n",
       "      <th>75%</th>\n",
       "      <td>0.824693</td>\n",
       "      <td>0.842742</td>\n",
       "    </tr>\n",
       "    <tr>\n",
       "      <th>max</th>\n",
       "      <td>0.903226</td>\n",
       "      <td>0.919355</td>\n",
       "    </tr>\n",
       "  </tbody>\n",
       "</table>\n",
       "</div>"
      ],
      "text/plain": [
       "               A          B\n",
       "count  10.000000  10.000000\n",
       "mean    0.793074   0.817117\n",
       "std     0.072425   0.054989\n",
       "min     0.677419   0.741935\n",
       "25%     0.744330   0.794457\n",
       "50%     0.798387   0.806452\n",
       "75%     0.824693   0.842742\n",
       "max     0.903226   0.919355"
      ]
     },
     "execution_count": 3,
     "metadata": {},
     "output_type": "execute_result"
    }
   ],
   "source": [
    "stats = results.describe()\n",
    "stats"
   ]
  },
  {
   "cell_type": "markdown",
   "metadata": {},
   "source": [
    "Patrząc na wartości średnie możemy stwierdzić, że:\n",
    "* przeciętnie model B (0.817117) jest lepszy od modelu A (0.793074). \n",
    "* w obu przypadkach średnie odchylenia wyników od średniej arytmetycznej (czyli odchylenie standardowe) są bardzo zbliżone i wynoszą: 0.054989 dla modelu B oraz 0.072425 dla modelu A.\n",
    "* Mediana (50-ty percentyl) obu rozkładów jest bardzo podobna."
   ]
  },
  {
   "cell_type": "code",
   "execution_count": 4,
   "metadata": {
    "ExecuteTime": {
     "end_time": "2019-04-13T06:16:53.935379Z",
     "start_time": "2019-04-13T06:16:53.758843Z"
    }
   },
   "outputs": [
    {
     "data": {
      "image/png": "[encoded data removed]",
      "text/plain": [
       "<Figure size 432x288 with 1 Axes>"
      ]
     },
     "metadata": {
      "image/png": {
       "height": 250,
       "width": 380
      }
     },
     "output_type": "display_data"
    }
   ],
   "source": [
    "results.boxplot();"
   ]
  },
  {
   "cell_type": "code",
   "execution_count": 5,
   "metadata": {
    "ExecuteTime": {
     "end_time": "2019-04-13T06:16:53.950467Z",
     "start_time": "2019-04-13T06:16:53.937434Z"
    }
   },
   "outputs": [
    {
     "data": {
      "text/plain": [
       "A    0.080363\n",
       "B    0.048285\n",
       "dtype: float64"
      ]
     },
     "execution_count": 5,
     "metadata": {},
     "output_type": "execute_result"
    }
   ],
   "source": [
    "IQR = stats.loc[\"75%\"] - stats.loc[\"25%\"]\n",
    "IQR"
   ]
  },
  {
   "cell_type": "markdown",
   "metadata": {},
   "source": [
    "Analizując wykres pudełkowy (inne nazwy to: *wykres ramka-wąsy*, *box plot*, *whisker plot*) możemy stwierdzić, że:\n",
    "* wyniki modelu B są bardziej skupione wokół średniej. Wartość rozstępu międzykwartylowego (różnica między trzecim a pierwszym kwartylem) dla modelu A wynosi 0.080363 i jest prawie dwukrotnie większa niż dla modelu B (0.048285).\n",
    "* model A uzyskał mniejszą wartość minimalną oraz wyższą wartość maksymalną od modelu B (nie uwzględniając wartości nietypowej).\n",
    "* rozkład wyników modelu B w dużym stopniu pokrywa się z rozkładem wyników dla modelu A."
   ]
  },
  {
   "cell_type": "markdown",
   "metadata": {},
   "source": [
    "# Problem wyboru lepszego modelu"
   ]
  },
  {
   "cell_type": "markdown",
   "metadata": {},
   "source": [
    "Wybór lepszego modelu jest bardzo częstą operacją. W końcu przecież trenujemy wiele modeli, wiele algorytmów z różnymi wartościami hiperparametrów tylko po to, by znaleźć najlepszy model i później go wykorzystać, np. do wdrożenia na produkcję.\n",
    "\n",
    "Mamy jednak pewien kłopot z porównywaniem wyników i stwierdzeniem, który model jest rzeczywiście lepszy. Przykładowo - porównując wyniki dwóch modeli - nie wiemy, czy różnica w wynikach obu modeli jest statystycznie istotna, czy też jest dziełem przypadku.\n",
    "\n",
    "Oczywiście mając więcej dostępnego czasu moglibyśmy uruchomić modele większą ilość razy. Uzyskalibyśmy w ten sposób więcej wyników zmniejszając ich przypadkowość. Zazwyczaj jednak jest to biznesowo niemożliwe, bo czas nas goni, a dodatkowo modele długo się trenują (np. sieć neuronowa trenująca się dwa dni).\n",
    "\n",
    "W wyborze najlepszego modelu oraz jego ocenie mogą pomóc nam testy statystyczne."
   ]
  },
  {
   "cell_type": "markdown",
   "metadata": {},
   "source": [
    "## Wstęp do testowania hipotez"
   ]
  },
  {
   "cell_type": "markdown",
   "metadata": {},
   "source": [
    "Stosując najpopularniejszą 10-krotną walidację krzyżową dla każdego modelu dostajemy próbę z 10-cioma wartościami funkcji kosztu. Niestety, zazwyczaj w takiej sytuacji nie jest znany rozkład tych wyników (rozkład normalny lub inny), a jest to ważne, bo decyduje o rodzaju testów, które można wykorzystać (parametryczne, nieparametryczne).\n",
    "\n",
    "Ze względu na to, że próba ta jest nie jest zbyt liczna, tj. zawiera mniej niż 30 elementów, nie możemy skorzystać z Centralnego Twierdzenia Granicznego i jego przybliżenia, że rozkład średnich z wyników jest zbliżony do rozkładu normalnego oraz że uzyskana próbka rezultatów pochodzi z rozkładu normalnego.\n",
    "\n",
    "Jest jeszcze inny problem - testy statystyczne istotności zakładają, że zaobserwowane wartości zostały uzyskane w sposób losowy, niezależny. W przypadku $k$-krotnej walidacji krzyżowej warunek ten nie jest niestety spełniony, bo dany wektor cech bierze udział w trenowaniu modelu $k-1$ razy (a raz jest częścią zbioru testowego i służy do oceny modelu), a tym samym ma wpływ na $k-1$ uzyskanych wyników jakości modelu. \n",
    "\n",
    "Można to też ująć inaczej - dla najpopularniejszej 10-krotnej walidacji krzyżowej, zbiory treningowe w dwóch kolejnych iteracjach mają wspólne $\\frac{8}{9}=88.9\\%$ danych: \n",
    "<img src=\"./assets/10-cv.png\" style=\"width:50%\" />\n",
    "\n",
    "W praktyce, warunek niezależności jest często pomijany."
   ]
  },
  {
   "cell_type": "markdown",
   "metadata": {},
   "source": [
    "## Wyliczenie statystyki"
   ]
  },
  {
   "cell_type": "markdown",
   "metadata": {},
   "source": [
    "Wybór odpowiedniego testu statystycznego można w dużym uproszczeniu ująć następująco:\n",
    "\n",
    "1. jeśli wektor wyników z n < 30, to\n",
    "    1. test t-Studenta lub\n",
    "    1. test Wilcoxona lub\n",
    "    1. test Welcha\n",
    "1. jeśli wektor wyników z n >= 30\n",
    "    1. test t-Studenta"
   ]
  },
  {
   "cell_type": "markdown",
   "metadata": {},
   "source": [
    "### Test t-Studenta, Test t-Welcha"
   ]
  },
  {
   "cell_type": "markdown",
   "metadata": {},
   "source": [
    "Test t-Studenta jest testem parametrycznym i służy do porównywania wartości **średnich** z badanych próbek oraz do tego, by stwierdzić jak bardzo **istotna** jest różnica pomiędzy tymi średnimi. \n",
    "\n",
    "Test t-Studenta zakłada, że populacje mają tę samą wariancję, natomiast test t-Welcha uogólnia ten przypadek na populacje o różnych wariancjach.\n",
    "\n",
    "W teście tym hipotezy wyglądają następująco:\n",
    "\n",
    "* H<sub>0</sub>: obie populacje mają **równe** wartości średnie (oczekiwane)\n",
    "* H<sub>A</sub>: obie populacje mają **różne** wartości średnie (oczekiwane)"
   ]
  },
  {
   "cell_type": "markdown",
   "metadata": {},
   "source": [
    "W pierwszym kroku musimy upewnić się, że dane mają rozkład normalny (założenie obu testów). By to zrobić wykorzystamy test Shapiro-Wilka, o którym pisałem w innym notatniku [normality-tests](normality-tests.ipynb)."
   ]
  },
  {
   "cell_type": "code",
   "execution_count": 6,
   "metadata": {
    "ExecuteTime": {
     "end_time": "2019-04-13T06:16:54.208646Z",
     "start_time": "2019-04-13T06:16:53.952664Z"
    }
   },
   "outputs": [
    {
     "name": "stdout",
     "output_type": "stream",
     "text": [
      "Próbka A\n",
      "Statistic=0.9702, p-value=0.892608642578125\n",
      "Sample looks Gaussian (fail to reject H0)\n",
      "\n",
      "Próbka B\n",
      "Statistic=0.9235, p-value=0.3867448568344116\n",
      "Sample looks Gaussian (fail to reject H0)\n"
     ]
    }
   ],
   "source": [
    "def shapiro_wilk_test(data, alpha=0.05):\n",
    "    from scipy import stats\n",
    "    \n",
    "    statistic, pvalue = stats.shapiro(data)\n",
    "    print(\"Statistic={:.4f}, p-value={}\".format(statistic, pvalue))\n",
    "    if pvalue > alpha:\n",
    "        print(\"Sample looks Gaussian (fail to reject H0)\")\n",
    "        return True\n",
    "    else:\n",
    "        print(\"Sample does not look Gaussian (reject H0)\")\n",
    "        return False\n",
    "\n",
    "print(\"Próbka A\")\n",
    "shapiro_wilk_test(results['A']);\n",
    "print()\n",
    "print(\"Próbka B\")\n",
    "shapiro_wilk_test(results['B']);"
   ]
  },
  {
   "cell_type": "markdown",
   "metadata": {},
   "source": [
    "W drugim kroku musimy się dowiedzieć, czy wariancje obu próbek są takie same. Do tego celu wykorzystamy [test Levene'a](https://en.wikipedia.org/wiki/Levene%27s_test) - jego H<sub>0</sub> to: wszystkie próbki pochodzą z populacji o tej samej wariancji."
   ]
  },
  {
   "cell_type": "code",
   "execution_count": 7,
   "metadata": {
    "ExecuteTime": {
     "end_time": "2019-04-13T06:16:54.216975Z",
     "start_time": "2019-04-13T06:16:54.210801Z"
    }
   },
   "outputs": [
    {
     "name": "stdout",
     "output_type": "stream",
     "text": [
      "Statistic=0.9761, p-value=0.3363\n",
      "Equal variances (fail to reject H0)\n",
      "True\n"
     ]
    }
   ],
   "source": [
    "from scipy import stats\n",
    "\n",
    "def levine_test(data1, data2, alpha=0.05):\n",
    "    from scipy import stats\n",
    "    \n",
    "    statistic, pvalue = stats.levene(data1, data2)\n",
    "    print(f\"Statistic={statistic:.4f}, p-value={pvalue:.4f}\")\n",
    "    if pvalue > alpha:\n",
    "        print(\"Equal variances (fail to reject H0)\")\n",
    "        return True\n",
    "    else:\n",
    "        print(\"We have no equal variances (reject H0)\")\n",
    "        return False\n",
    "\n",
    "equal_var = levine_test(results['A'], results['B'])\n",
    "print(equal_var)"
   ]
  },
  {
   "cell_type": "markdown",
   "metadata": {},
   "source": [
    "Na podstawie testu Levene'a możemy stwierdzic, że obie próbki danych mają tę samą wariancję, a więc moglibyśmy skorzystać z testu t-Studenta. Jednak dla celów edukacyjnych stwierdzę, że wartości wariancji, a przez to wartości wyliczonych odchyleń standardowych 0.054989 (model B) oraz 0.072425 (model A) są różne. Wówczas będę mógł skorzystać z uogólnionego testu t-Welcha.\n",
    "\n",
    "W naszym przykładzie wyliczenie statystyki $t$ oraz $p-value$ powinno wyglądać następująco:"
   ]
  },
  {
   "cell_type": "code",
   "execution_count": 8,
   "metadata": {
    "ExecuteTime": {
     "end_time": "2019-04-13T06:16:54.222921Z",
     "start_time": "2019-04-13T06:16:54.218833Z"
    }
   },
   "outputs": [
    {
     "name": "stdout",
     "output_type": "stream",
     "text": [
      "t-test statistic: -0.836104\n",
      "p-value: 0.414839\n"
     ]
    }
   ],
   "source": [
    "from scipy import stats\n",
    "t_value, p_value = stats.ttest_ind(results['A'].values, \n",
    "                                   results['B'].values, \n",
    "                                   equal_var=False)\n",
    "\n",
    "print(f\"t-test statistic: {t_value:.6f}\")\n",
    "print(f\"p-value: {p_value:.6f}\")"
   ]
  },
  {
   "cell_type": "markdown",
   "metadata": {},
   "source": [
    "Ze względu na to, że wartość $p-value$ jest większa od domyślnego poziomu istotności $\\alpha=0.05$, nie mamy podstaw, by odrzucić hipotezę zerową H<sub>0</sub>. \n",
    "\n",
    "**KONKLUZJA: nie mamy podstaw do tego by stwierdzić, że wyniki modelu B są statystycznie istotnie lepsze od wyników modelu A.**"
   ]
  },
  {
   "cell_type": "markdown",
   "metadata": {},
   "source": [
    "#### Obliczenia sprawdzające"
   ]
  },
  {
   "cell_type": "markdown",
   "metadata": {},
   "source": [
    "Wyliczmy samodzielnie wartość statystyki t-Welcha [Wikipedia](https://pl.wikipedia.org/wiki/Test_t_Welcha):"
   ]
  },
  {
   "cell_type": "code",
   "execution_count": 9,
   "metadata": {
    "ExecuteTime": {
     "end_time": "2019-04-13T06:16:54.233439Z",
     "start_time": "2019-04-13T06:16:54.224945Z"
    }
   },
   "outputs": [
    {
     "name": "stdout",
     "output_type": "stream",
     "text": [
      "Welch's t-test: -0.8361\n",
      "Welch-Satterthwaite Degrees of Freedom= 16.7882\n",
      "p-value: 0.4148\n"
     ]
    }
   ],
   "source": [
    "a_mean = results['A'].mean()\n",
    "b_mean = results['B'].mean()\n",
    "\n",
    "a_var = results['A'].var()\n",
    "b_var = results['B'].var()\n",
    "\n",
    "a_N = len(results['A'])\n",
    "b_N = len(results['B'])\n",
    "\n",
    "# calculate the t-statistic\n",
    "t = (a_mean - b_mean) / np.sqrt( (a_var/a_N) + (b_var/b_N) )\n",
    "print(f\"Welch's t-test: {t:.4f}\")\n",
    "\n",
    "# calculate degrees of freedom using approximation\n",
    "def welch_dof(x, y):\n",
    "    dof = (x.var()/x.size + y.var()/y.size)**2 / ((x.var()/x.size)**2 / (x.size-1) + (y.var()/y.size)**2 / (y.size-1))\n",
    "    print(f\"Welch-Satterthwaite Degrees of Freedom= {dof:.4f}\")\n",
    "    return dof\n",
    "\n",
    "dof = welch_dof(results['A'], results['B'])\n",
    "p = 2 * stats.t.cdf(t, df=dof)\n",
    "print(f\"p-value: {p:.4f}\")"
   ]
  },
  {
   "cell_type": "markdown",
   "metadata": {},
   "source": [
    "#### Interpretacja graficzna"
   ]
  },
  {
   "cell_type": "code",
   "execution_count": 10,
   "metadata": {
    "ExecuteTime": {
     "end_time": "2019-04-13T06:16:54.438602Z",
     "start_time": "2019-04-13T06:16:54.235271Z"
    }
   },
   "outputs": [
    {
     "data": {
      "image/png": "[encoded data removed]",
      "text/plain": [
       "<Figure size 432x288 with 1 Axes>"
      ]
     },
     "metadata": {
      "image/png": {
       "height": 277,
       "width": 364
      }
     },
     "output_type": "display_data"
    }
   ],
   "source": [
    "import matplotlib.pyplot as plt\n",
    "import numpy as np\n",
    "\n",
    "# Gaussian distribution for results for model A\n",
    "mu = 0.793074\n",
    "std = 0.072425\n",
    "x1 = np.linspace(mu - 3*std, mu + 3*std, 100)\n",
    "y1 = stats.norm.pdf(x1, mu, std)\n",
    "plt.plot(x1, y1, label='model A')\n",
    "\n",
    "# Gaussian distribution for results for model B\n",
    "mu = 0.817117\n",
    "std = 0.054989\n",
    "x2 = np.linspace(mu - 3*std, mu + 3*std, 100)\n",
    "y2 = stats.norm.pdf(x2, mu, std)\n",
    "plt.plot(x2, y2, label='model B')\n",
    "\n",
    "plt.title(\"Theoretical distribution of results for ML models\")\n",
    "plt.xlabel(\"Accuracy\")\n",
    "plt.gca().legend()\n",
    "plt.show()"
   ]
  },
  {
   "cell_type": "markdown",
   "metadata": {},
   "source": [
    "### Test Wilcoxona "
   ]
  },
  {
   "cell_type": "markdown",
   "metadata": {},
   "source": [
    "# Raport końcowy"
   ]
  },
  {
   "cell_type": "markdown",
   "metadata": {},
   "source": [
    "Niniejsza analiza miała na celu sprawdzenie, czy wyniki jakości (*accuracy*) modelu A i modelu B różnią się istotnie od siebie.\n",
    "\n",
    "Na podstawie 10 obserwacji (wyniki 10-krotnej walidacji krzyżowej) każdego z modelów można stwierdzić, że model B uzyskiwał troszkę lepsze wyniki (M=0.817117, SD=0.054989) od modelu A (M=0.793074, SD=0.072425). \n",
    "\n",
    "Do oceny istotności różnicy wyników został wykorzystany test Welcha, aczkolwiek test Levene'a (W=0.9761, p-value=0.3363) wskazał, że obie próbki mają tę samą wariancję i można użyć test t-Studenta.\n",
    "\n",
    "Wyniki testu t-Welcha (T=-0.8361, dof=16.7882,p-value=0.4148) wskazują, że różnica w wynikach modelu A i modelu B nie są istotne statystycznie."
   ]
  }
 ],
 "metadata": {
  "kernelspec": {
   "display_name": "Python [default]",
   "language": "python",
   "name": "python3"
  },
  "language_info": {
   "codemirror_mode": {
    "name": "ipython",
    "version": 3
   },
   "file_extension": ".py",
   "mimetype": "text/x-python",
   "name": "python",
   "nbconvert_exporter": "python",
   "pygments_lexer": "ipython3",
   "version": "3.6.8"
  },
  "toc": {
   "base_numbering": 1,
   "nav_menu": {},
   "number_sections": true,
   "sideBar": true,
   "skip_h1_title": false,
   "title_cell": "Table of Contents",
   "title_sidebar": "Contents",
   "toc_cell": false,
   "toc_position": {},
   "toc_section_display": true,
   "toc_window_display": false
  }
 },
 "nbformat": 4,
 "nbformat_minor": 2
}
