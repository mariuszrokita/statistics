{
 "cells": [
  {
   "cell_type": "markdown",
   "metadata": {},
   "source": [
    "# Wykorzystanie testów istotności statystycznej,  w celu porównania wyników modeli"
   ]
  },
  {
   "cell_type": "markdown",
   "metadata": {},
   "source": [
    "Niniejszy notatnik jest inspirowany dwoma wpisami Jasona Brownlee: \n",
    "- [How to Use Statistical Significance Tests to Interpret Machine Learning Results](https://machinelearningmastery.com/use-statistical-significance-tests-interpret-machine-learning-results/)\n",
    "- [Statistical Significance Tests for Comparing Machine Learning Algorithms](https://machinelearningmastery.com/statistical-significance-tests-for-comparing-machine-learning-algorithms/)"
   ]
  },
  {
   "cell_type": "markdown",
   "metadata": {},
   "source": [
    "# Opis problemu"
   ]
  },
  {
   "cell_type": "markdown",
   "metadata": {},
   "source": [
    "Załóżmy, że w [czasie prac](https://github.com/mariuszrokita/machine-learning-model-deployment/blob/master/ModelDevelopment/Titanic.ipynb) udało nam się stworzyć dwa modele uczenia maszynowego. Jakość obu modelów została oszacowana poprzez zastosowanie K-krotnej walidacji krzyżowej.\n",
    "\n",
    "Wyniki *accuracy* dla obu modeli są następujące:\n",
    "\n",
    "**Model 1:**\n",
    "\n",
    "[0.734375, 0.82539683, 0.88709677, 0.82258065, 0.67741935, 0.70967742, 0.79032258, 0.77419355, 0.80645161, 0.90322581]\n",
    "\n",
    "Mean: 0.7930739567332309, STD: 0.06870856655624873\n",
    "\n",
    "**Model 2:**\n",
    "\n",
    "[0.796875, 0.79365079, 0.88709677, 0.85483871, 0.80645161, 0.75806452, 0.80645161, 0.80645161, 0.74193548, 0.91935484]\n",
    "\n",
    "Mean: 0.8171170954941116, STD: 0.05216682941303683"
   ]
  },
  {
   "cell_type": "markdown",
   "metadata": {},
   "source": [
    "**Pytanie:** \n",
    "\n",
    "Czy drugi model jest istotnie lepszy od pierwszego?"
   ]
  }
 ],
 "metadata": {
  "kernelspec": {
   "display_name": "Python 3",
   "language": "python",
   "name": "python3"
  },
  "language_info": {
   "codemirror_mode": {
    "name": "ipython",
    "version": 3
   },
   "file_extension": ".py",
   "mimetype": "text/x-python",
   "name": "python",
   "nbconvert_exporter": "python",
   "pygments_lexer": "ipython3",
   "version": "3.7.2"
  },
  "toc": {
   "base_numbering": 1,
   "nav_menu": {},
   "number_sections": true,
   "sideBar": true,
   "skip_h1_title": false,
   "title_cell": "Table of Contents",
   "title_sidebar": "Contents",
   "toc_cell": false,
   "toc_position": {},
   "toc_section_display": true,
   "toc_window_display": false
  }
 },
 "nbformat": 4,
 "nbformat_minor": 2
}
