{
 "cells": [
  {
   "cell_type": "markdown",
   "metadata": {},
   "source": [
    "# Wykorzystanie testów istotności statystycznej do porównania wyników modeli uczenia maszynowego"
   ]
  },
  {
   "cell_type": "markdown",
   "metadata": {},
   "source": [
    "Niniejszy notatnik jest inspirowany dwoma wpisami Jasona Brownlee: \n",
    "- [How to Use Statistical Significance Tests to Interpret Machine Learning Results](https://machinelearningmastery.com/use-statistical-significance-tests-interpret-machine-learning-results/)\n",
    "- [Statistical Significance Tests for Comparing Machine Learning Algorithms](https://machinelearningmastery.com/statistical-significance-tests-for-comparing-machine-learning-algorithms/)"
   ]
  },
  {
   "cell_type": "markdown",
   "metadata": {},
   "source": [
    "# Opis problemu"
   ]
  },
  {
   "cell_type": "markdown",
   "metadata": {},
   "source": [
    "Załóżmy, że w [czasie prac](https://github.com/mariuszrokita/machine-learning-model-deployment/blob/master/ModelDevelopment/Titanic.ipynb) udało nam się stworzyć dwa modele uczenia maszynowego. Jakość obu modelów została oszacowana poprzez zastosowanie K-krotnej walidacji krzyżowej.\n",
    "\n",
    "Wyniki *accuracy* dla obu modeli są następujące:\n",
    "\n",
    "**Model A:**\n",
    "\n",
    "[0.734375, 0.82539683, 0.88709677, 0.82258065, 0.67741935, 0.70967742, 0.79032258, 0.77419355, 0.80645161, 0.90322581]\n",
    "\n",
    "Mean: 0.7930739567332309, STD: 0.06870856655624873\n",
    "\n",
    "**Model B:**\n",
    "\n",
    "[0.796875, 0.79365079, 0.88709677, 0.85483871, 0.80645161, 0.75806452, 0.80645161, 0.80645161, 0.74193548, 0.91935484]\n",
    "\n",
    "Mean: 0.8171170954941116, STD: 0.05216682941303683"
   ]
  },
  {
   "cell_type": "markdown",
   "metadata": {},
   "source": [
    "**Pytanie:** \n",
    "\n",
    "Czy drugi model jest istotnie lepszy od pierwszego?"
   ]
  },
  {
   "cell_type": "markdown",
   "metadata": {},
   "source": [
    "# Analiza uzyskanych wyników"
   ]
  },
  {
   "cell_type": "code",
   "execution_count": 1,
   "metadata": {
    "ExecuteTime": {
     "end_time": "2019-03-18T05:58:13.257572Z",
     "start_time": "2019-03-18T05:58:12.236260Z"
    }
   },
   "outputs": [],
   "source": [
    "import pandas as pd\n",
    "import matplotlib.pyplot as plt\n",
    "\n",
    "%config InlineBackend.figure_format = 'retina'"
   ]
  },
  {
   "cell_type": "markdown",
   "metadata": {},
   "source": [
    "## Załadowanie danych"
   ]
  },
  {
   "cell_type": "code",
   "execution_count": 2,
   "metadata": {
    "ExecuteTime": {
     "end_time": "2019-03-18T05:58:13.287144Z",
     "start_time": "2019-03-18T05:58:13.259806Z"
    }
   },
   "outputs": [
    {
     "data": {
      "text/html": [
       "<div>\n",
       "<style scoped>\n",
       "    .dataframe tbody tr th:only-of-type {\n",
       "        vertical-align: middle;\n",
       "    }\n",
       "\n",
       "    .dataframe tbody tr th {\n",
       "        vertical-align: top;\n",
       "    }\n",
       "\n",
       "    .dataframe thead th {\n",
       "        text-align: right;\n",
       "    }\n",
       "</style>\n",
       "<table border=\"1\" class=\"dataframe\">\n",
       "  <thead>\n",
       "    <tr style=\"text-align: right;\">\n",
       "      <th></th>\n",
       "      <th>A</th>\n",
       "      <th>B</th>\n",
       "    </tr>\n",
       "  </thead>\n",
       "  <tbody>\n",
       "    <tr>\n",
       "      <th>0</th>\n",
       "      <td>0.734375</td>\n",
       "      <td>0.796875</td>\n",
       "    </tr>\n",
       "    <tr>\n",
       "      <th>1</th>\n",
       "      <td>0.825397</td>\n",
       "      <td>0.793651</td>\n",
       "    </tr>\n",
       "    <tr>\n",
       "      <th>2</th>\n",
       "      <td>0.887097</td>\n",
       "      <td>0.887097</td>\n",
       "    </tr>\n",
       "    <tr>\n",
       "      <th>3</th>\n",
       "      <td>0.822581</td>\n",
       "      <td>0.854839</td>\n",
       "    </tr>\n",
       "    <tr>\n",
       "      <th>4</th>\n",
       "      <td>0.677419</td>\n",
       "      <td>0.806452</td>\n",
       "    </tr>\n",
       "    <tr>\n",
       "      <th>5</th>\n",
       "      <td>0.709677</td>\n",
       "      <td>0.758065</td>\n",
       "    </tr>\n",
       "    <tr>\n",
       "      <th>6</th>\n",
       "      <td>0.790323</td>\n",
       "      <td>0.806452</td>\n",
       "    </tr>\n",
       "    <tr>\n",
       "      <th>7</th>\n",
       "      <td>0.774194</td>\n",
       "      <td>0.806452</td>\n",
       "    </tr>\n",
       "    <tr>\n",
       "      <th>8</th>\n",
       "      <td>0.806452</td>\n",
       "      <td>0.741935</td>\n",
       "    </tr>\n",
       "    <tr>\n",
       "      <th>9</th>\n",
       "      <td>0.903226</td>\n",
       "      <td>0.919355</td>\n",
       "    </tr>\n",
       "  </tbody>\n",
       "</table>\n",
       "</div>"
      ],
      "text/plain": [
       "          A         B\n",
       "0  0.734375  0.796875\n",
       "1  0.825397  0.793651\n",
       "2  0.887097  0.887097\n",
       "3  0.822581  0.854839\n",
       "4  0.677419  0.806452\n",
       "5  0.709677  0.758065\n",
       "6  0.790323  0.806452\n",
       "7  0.774194  0.806452\n",
       "8  0.806452  0.741935\n",
       "9  0.903226  0.919355"
      ]
     },
     "execution_count": 2,
     "metadata": {},
     "output_type": "execute_result"
    }
   ],
   "source": [
    "results = pd.DataFrame()\n",
    "\n",
    "# performance results for model A\n",
    "results['A'] = [0.734375, 0.82539683, 0.88709677, 0.82258065, 0.67741935, \n",
    "                0.70967742, 0.79032258, 0.77419355, 0.80645161, 0.90322581]\n",
    "# performance results for model B\n",
    "results['B'] = [0.796875, 0.79365079, 0.88709677, 0.85483871, 0.80645161, \n",
    "                0.75806452, 0.80645161, 0.80645161, 0.74193548, 0.91935484]\n",
    "\n",
    "results"
   ]
  },
  {
   "cell_type": "markdown",
   "metadata": {},
   "source": [
    "## Analiza wyników"
   ]
  },
  {
   "cell_type": "code",
   "execution_count": 3,
   "metadata": {
    "ExecuteTime": {
     "end_time": "2019-03-18T05:58:13.309590Z",
     "start_time": "2019-03-18T05:58:13.289402Z"
    }
   },
   "outputs": [
    {
     "data": {
      "text/html": [
       "<div>\n",
       "<style scoped>\n",
       "    .dataframe tbody tr th:only-of-type {\n",
       "        vertical-align: middle;\n",
       "    }\n",
       "\n",
       "    .dataframe tbody tr th {\n",
       "        vertical-align: top;\n",
       "    }\n",
       "\n",
       "    .dataframe thead th {\n",
       "        text-align: right;\n",
       "    }\n",
       "</style>\n",
       "<table border=\"1\" class=\"dataframe\">\n",
       "  <thead>\n",
       "    <tr style=\"text-align: right;\">\n",
       "      <th></th>\n",
       "      <th>A</th>\n",
       "      <th>B</th>\n",
       "    </tr>\n",
       "  </thead>\n",
       "  <tbody>\n",
       "    <tr>\n",
       "      <th>count</th>\n",
       "      <td>10.000000</td>\n",
       "      <td>10.000000</td>\n",
       "    </tr>\n",
       "    <tr>\n",
       "      <th>mean</th>\n",
       "      <td>0.793074</td>\n",
       "      <td>0.817117</td>\n",
       "    </tr>\n",
       "    <tr>\n",
       "      <th>std</th>\n",
       "      <td>0.072425</td>\n",
       "      <td>0.054989</td>\n",
       "    </tr>\n",
       "    <tr>\n",
       "      <th>min</th>\n",
       "      <td>0.677419</td>\n",
       "      <td>0.741935</td>\n",
       "    </tr>\n",
       "    <tr>\n",
       "      <th>25%</th>\n",
       "      <td>0.744330</td>\n",
       "      <td>0.794457</td>\n",
       "    </tr>\n",
       "    <tr>\n",
       "      <th>50%</th>\n",
       "      <td>0.798387</td>\n",
       "      <td>0.806452</td>\n",
       "    </tr>\n",
       "    <tr>\n",
       "      <th>75%</th>\n",
       "      <td>0.824693</td>\n",
       "      <td>0.842742</td>\n",
       "    </tr>\n",
       "    <tr>\n",
       "      <th>max</th>\n",
       "      <td>0.903226</td>\n",
       "      <td>0.919355</td>\n",
       "    </tr>\n",
       "  </tbody>\n",
       "</table>\n",
       "</div>"
      ],
      "text/plain": [
       "               A          B\n",
       "count  10.000000  10.000000\n",
       "mean    0.793074   0.817117\n",
       "std     0.072425   0.054989\n",
       "min     0.677419   0.741935\n",
       "25%     0.744330   0.794457\n",
       "50%     0.798387   0.806452\n",
       "75%     0.824693   0.842742\n",
       "max     0.903226   0.919355"
      ]
     },
     "execution_count": 3,
     "metadata": {},
     "output_type": "execute_result"
    }
   ],
   "source": [
    "stats = results.describe()\n",
    "stats"
   ]
  },
  {
   "cell_type": "markdown",
   "metadata": {},
   "source": [
    "Patrząc na wartości średnie możemy stwierdzić, że:\n",
    "* przeciętnie model B (0.817117) jest lepszy od modelu A (0.793074). \n",
    "* w obu przypadkach średnie odchylenia wyników od średniej arytmetycznej (czyli odchylenie standardowe) są bardzo zbliżone i wynoszą: 0.054989 dla modelu B oraz 0.072425 dla modelu A.\n",
    "* Mediana (50-ty percentyl) obu rozkładów jest bardzo podobna."
   ]
  },
  {
   "cell_type": "code",
   "execution_count": 4,
   "metadata": {
    "ExecuteTime": {
     "end_time": "2019-03-18T05:58:13.511567Z",
     "start_time": "2019-03-18T05:58:13.311483Z"
    }
   },
   "outputs": [
    {
     "data": {
      "image/png": "[encoded data removed]",
      "text/plain": [
       "<Figure size 432x288 with 1 Axes>"
      ]
     },
     "metadata": {
      "image/png": {
       "height": 250,
       "width": 380
      }
     },
     "output_type": "display_data"
    }
   ],
   "source": [
    "results.boxplot();"
   ]
  },
  {
   "cell_type": "code",
   "execution_count": 5,
   "metadata": {
    "ExecuteTime": {
     "end_time": "2019-03-18T05:58:13.532394Z",
     "start_time": "2019-03-18T05:58:13.513406Z"
    }
   },
   "outputs": [
    {
     "data": {
      "text/plain": [
       "A    0.080363\n",
       "B    0.048285\n",
       "dtype: float64"
      ]
     },
     "execution_count": 5,
     "metadata": {},
     "output_type": "execute_result"
    }
   ],
   "source": [
    "IQR = stats.loc[\"75%\"] - stats.loc[\"25%\"]\n",
    "IQR"
   ]
  },
  {
   "cell_type": "markdown",
   "metadata": {},
   "source": [
    "Analizując wykres pudełkowy (inne nazwy to: *wykres ramka-wąsy*, *box plot*, *whisker plot*) możemy stwierdzić, że:\n",
    "* wyniki modelu B są bardziej skupione wokół średniej. Wartość rozstępu międzykwartylowego (różnica między trzecim a pierwszym kwartylem) dla modelu A wynosi 0.080363 i jest prawie dwukrotnie większa niż dla modelu B (0.048285).\n",
    "* model A ma uzyskał mniejszą wartość minimalną oraz wyższą wartość maksymalną od modelu B (bez uwzględniania wartości nietypowej).\n",
    "* rozkład wyników modelu B w dużym stopniu pokrywa się z rozkładem wyników dla modelu A."
   ]
  },
  {
   "cell_type": "markdown",
   "metadata": {},
   "source": [
    "# Problem wyboru lepszego modelu"
   ]
  },
  {
   "cell_type": "markdown",
   "metadata": {},
   "source": [
    "Wybór lepszego modelu jest bardzo częstą operacją. W końcu przecież trenujemy wiele modeli, wiele algorytmów z różnymi wartościami hiperparametrów tylko po to, by znaleźć najlepszy model i później go wykorzystać.\n",
    "\n",
    "Mamy jednak pewien kłopot z porównywaniem wyników i stwierdzeniem, który model jest lepszy. Przykładowo - porównując wyniki dwóch modeli - nie wiemy, czy różnica w wynikach obu modeli jest statystycznie istotna, czy też jest dziełem przypadkowości.\n",
    "\n",
    "Oczywiście mając więcej dostępnego czasu moglibyśmy uruchomić modele większą ilość razy. Uzyskalibyśmy w ten sposób więcej wyników zmniejszając ich przypadkowość. Czasami jednak jest to biznesowo niemożliwe, bo czas nas goni, a dodatkowo modele długo się trenują (np. sieć neuronowa, która trenuje się przez dwa dni).\n",
    "\n",
    "W wyborze najlepszego modelu oraz jego ocenie mogą pomóc nam testy statystyczne."
   ]
  },
  {
   "cell_type": "markdown",
   "metadata": {},
   "source": [
    "## Wstęp do testowania hipotez"
   ]
  },
  {
   "cell_type": "markdown",
   "metadata": {},
   "source": [
    "Stosując najpopularniejszą 10-krotną walidację krzyżową dla każdego modelu dostajemy próbę zawierającą 10 jego wyników. Niestety, zazwyczaj w takiej sytuacji nie jest znany rozkład tych wyników (rozkład normalny lub inny), a jest to ważne, bo decyduje o rodzaju testów, które można wykorzystać (parametryczne, nieparametryczne).\n",
    "\n",
    "Ze względu na to, że próba ta jest nie jest zbyt liczna, tj. zawiera mniej niż 30 elementów, nie możemy skorzystać z Centralnego Twierdzenia Granicznego i jego przybliżenia, że rozkład średnich z wyników jest zbliżony do rozkładu normalnego oraz że uzyskana próbka rezultatów pochodzi z rozkładu normalnego."
   ]
  }
 ],
 "metadata": {
  "kernelspec": {
   "display_name": "Python [default]",
   "language": "python",
   "name": "python3"
  },
  "language_info": {
   "codemirror_mode": {
    "name": "ipython",
    "version": 3
   },
   "file_extension": ".py",
   "mimetype": "text/x-python",
   "name": "python",
   "nbconvert_exporter": "python",
   "pygments_lexer": "ipython3",
   "version": "3.6.8"
  },
  "toc": {
   "base_numbering": 1,
   "nav_menu": {},
   "number_sections": true,
   "sideBar": true,
   "skip_h1_title": false,
   "title_cell": "Table of Contents",
   "title_sidebar": "Contents",
   "toc_cell": false,
   "toc_position": {},
   "toc_section_display": true,
   "toc_window_display": false
  }
 },
 "nbformat": 4,
 "nbformat_minor": 2
}
