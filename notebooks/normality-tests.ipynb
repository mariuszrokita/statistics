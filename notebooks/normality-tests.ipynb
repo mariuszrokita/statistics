{
 "cells": [
  {
   "cell_type": "markdown",
   "metadata": {},
   "source": [
    "# Testowanie, czy dane mają rozkład normalny\n",
    "\n",
    "Poniższy notatnik jest inspirowany wpisami [Jasona Brownlee](https://machinelearningmastery.com/a-gentle-introduction-to-normality-tests-in-python/) oraz [Łukasza Prokulskiego](https://blog.prokulski.science/index.php/2019/01/24/rozklad-normalny-hipotezy-i-regresja-logistyczna/) dotyczącymi testowania rozkładu danych.\n",
    "\n",
    "Do analiz wykorzystam zbiór danych dotyczących wzrostu i wagi amerykańskich nastolatków [link](https://www.statcrunch.com/app/index.php?dataid=1757964)."
   ]
  },
  {
   "cell_type": "code",
   "execution_count": 1,
   "metadata": {
    "ExecuteTime": {
     "end_time": "2019-02-04T06:14:49.907691Z",
     "start_time": "2019-02-04T06:14:49.557541Z"
    }
   },
   "outputs": [],
   "source": [
    "import pandas as pd"
   ]
  },
  {
   "cell_type": "code",
   "execution_count": 2,
   "metadata": {
    "ExecuteTime": {
     "end_time": "2019-02-04T06:14:49.939699Z",
     "start_time": "2019-02-04T06:14:49.909834Z"
    }
   },
   "outputs": [
    {
     "data": {
      "text/html": [
       "<div>\n",
       "<style scoped>\n",
       "    .dataframe tbody tr th:only-of-type {\n",
       "        vertical-align: middle;\n",
       "    }\n",
       "\n",
       "    .dataframe tbody tr th {\n",
       "        vertical-align: top;\n",
       "    }\n",
       "\n",
       "    .dataframe thead th {\n",
       "        text-align: right;\n",
       "    }\n",
       "</style>\n",
       "<table border=\"1\" class=\"dataframe\">\n",
       "  <thead>\n",
       "    <tr style=\"text-align: right;\">\n",
       "      <th></th>\n",
       "      <th>Gender</th>\n",
       "      <th>Age</th>\n",
       "      <th>Height (inches)</th>\n",
       "      <th>Weight (lbs)</th>\n",
       "      <th>How would you describe your weight?</th>\n",
       "    </tr>\n",
       "  </thead>\n",
       "  <tbody>\n",
       "    <tr>\n",
       "      <th>0</th>\n",
       "      <td>Female</td>\n",
       "      <td>18</td>\n",
       "      <td>67</td>\n",
       "      <td>150</td>\n",
       "      <td>Slightly overweight</td>\n",
       "    </tr>\n",
       "    <tr>\n",
       "      <th>1</th>\n",
       "      <td>Male</td>\n",
       "      <td>17</td>\n",
       "      <td>67</td>\n",
       "      <td>140</td>\n",
       "      <td>About the right weight</td>\n",
       "    </tr>\n",
       "    <tr>\n",
       "      <th>2</th>\n",
       "      <td>Female</td>\n",
       "      <td>16</td>\n",
       "      <td>67</td>\n",
       "      <td>100</td>\n",
       "      <td>Slightly underweight</td>\n",
       "    </tr>\n",
       "  </tbody>\n",
       "</table>\n",
       "</div>"
      ],
      "text/plain": [
       "   Gender  Age  Height (inches)  Weight (lbs)  \\\n",
       "0  Female   18               67           150   \n",
       "1    Male   17               67           140   \n",
       "2  Female   16               67           100   \n",
       "\n",
       "  How would you describe your weight?  \n",
       "0                 Slightly overweight  \n",
       "1              About the right weight  \n",
       "2                Slightly underweight  "
      ]
     },
     "execution_count": 2,
     "metadata": {},
     "output_type": "execute_result"
    }
   ],
   "source": [
    "# Read data (already downloaded)\n",
    "df = pd.read_csv(\"../data/NLSY97.csv\", delimiter=\" \")\n",
    "df.head(3)"
   ]
  },
  {
   "cell_type": "code",
   "execution_count": 3,
   "metadata": {
    "ExecuteTime": {
     "end_time": "2019-02-04T06:14:49.952102Z",
     "start_time": "2019-02-04T06:14:49.941484Z"
    }
   },
   "outputs": [],
   "source": [
    "# Convert measurement units\n",
    "df[\"Height (cm)\"] = df[\"Height (inches)\"] * 2.54     # 1 inch = 2.54cm\n",
    "df[\"Weight (kg)\"] = df[\"Weight (lbs)\"] * 0.45359237  # 1 pound ~= 0.45kg"
   ]
  },
  {
   "cell_type": "code",
   "execution_count": 4,
   "metadata": {
    "ExecuteTime": {
     "end_time": "2019-02-04T06:14:49.964345Z",
     "start_time": "2019-02-04T06:14:49.954593Z"
    }
   },
   "outputs": [
    {
     "data": {
      "text/html": [
       "<div>\n",
       "<style scoped>\n",
       "    .dataframe tbody tr th:only-of-type {\n",
       "        vertical-align: middle;\n",
       "    }\n",
       "\n",
       "    .dataframe tbody tr th {\n",
       "        vertical-align: top;\n",
       "    }\n",
       "\n",
       "    .dataframe thead th {\n",
       "        text-align: right;\n",
       "    }\n",
       "</style>\n",
       "<table border=\"1\" class=\"dataframe\">\n",
       "  <thead>\n",
       "    <tr style=\"text-align: right;\">\n",
       "      <th></th>\n",
       "      <th>Gender</th>\n",
       "      <th>Height (cm)</th>\n",
       "      <th>Weight (kg)</th>\n",
       "    </tr>\n",
       "  </thead>\n",
       "  <tbody>\n",
       "    <tr>\n",
       "      <th>0</th>\n",
       "      <td>Female</td>\n",
       "      <td>170.18</td>\n",
       "      <td>68.038855</td>\n",
       "    </tr>\n",
       "    <tr>\n",
       "      <th>1</th>\n",
       "      <td>Male</td>\n",
       "      <td>170.18</td>\n",
       "      <td>63.502932</td>\n",
       "    </tr>\n",
       "    <tr>\n",
       "      <th>2</th>\n",
       "      <td>Female</td>\n",
       "      <td>170.18</td>\n",
       "      <td>45.359237</td>\n",
       "    </tr>\n",
       "  </tbody>\n",
       "</table>\n",
       "</div>"
      ],
      "text/plain": [
       "   Gender  Height (cm)  Weight (kg)\n",
       "0  Female       170.18    68.038855\n",
       "1    Male       170.18    63.502932\n",
       "2  Female       170.18    45.359237"
      ]
     },
     "execution_count": 4,
     "metadata": {},
     "output_type": "execute_result"
    }
   ],
   "source": [
    "# Take only what we are interested in\n",
    "df = df[[\"Gender\", \"Height (cm)\", \"Weight (kg)\"]]\n",
    "df.head(3)"
   ]
  },
  {
   "cell_type": "code",
   "execution_count": null,
   "metadata": {},
   "outputs": [],
   "source": []
  },
  {
   "cell_type": "markdown",
   "metadata": {},
   "source": [
    "TODO: \n",
    "* dodać wyjaśnienie, dlaczego testowanie rozkładu jest ważne."
   ]
  }
 ],
 "metadata": {
  "kernelspec": {
   "display_name": "Python [conda env:anaconda]",
   "language": "python",
   "name": "conda-env-anaconda-py"
  },
  "language_info": {
   "codemirror_mode": {
    "name": "ipython",
    "version": 3
   },
   "file_extension": ".py",
   "mimetype": "text/x-python",
   "name": "python",
   "nbconvert_exporter": "python",
   "pygments_lexer": "ipython3",
   "version": "3.6.6"
  },
  "toc": {
   "base_numbering": 1,
   "nav_menu": {},
   "number_sections": true,
   "sideBar": true,
   "skip_h1_title": false,
   "title_cell": "Table of Contents",
   "title_sidebar": "Contents",
   "toc_cell": false,
   "toc_position": {},
   "toc_section_display": true,
   "toc_window_display": false
  }
 },
 "nbformat": 4,
 "nbformat_minor": 2
}
