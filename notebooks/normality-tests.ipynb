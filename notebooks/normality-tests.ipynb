{
 "cells": [
  {
   "cell_type": "markdown",
   "metadata": {},
   "source": [
    "# Weryfikowanie normalności rozkładu badanej cechy\n",
    "\n",
    "Poniższy notatnik jest inspirowany wpisami [Jasona Brownlee](https://machinelearningmastery.com/a-gentle-introduction-to-normality-tests-in-python/) oraz [Łukasza Prokulskiego](https://blog.prokulski.science/index.php/2019/01/24/rozklad-normalny-hipotezy-i-regresja-logistyczna/) dotyczącymi testowania rozkładu danych.\n",
    "\n",
    "Do analiz wykorzystam zbiór danych dotyczących wzrostu i wagi amerykańskich nastolatków [link](https://www.statcrunch.com/app/index.php?dataid=1757964)."
   ]
  },
  {
   "cell_type": "code",
   "execution_count": 1,
   "metadata": {
    "ExecuteTime": {
     "end_time": "2019-02-06T07:05:39.884584Z",
     "start_time": "2019-02-06T07:05:38.869667Z"
    }
   },
   "outputs": [],
   "source": [
    "import matplotlib.pyplot as plt\n",
    "import numpy as np\n",
    "import pandas as pd\n",
    "import seaborn as sns\n",
    "import statsmodels.api as sm\n",
    "from scipy import stats\n",
    "\n",
    "# Get plots with higher resolution\n",
    "%config InlineBackend.figure_format = 'retina'\n",
    "\n",
    "# Default styling for plots\n",
    "sns.set(style=\"white\", palette=\"muted\", color_codes=True)"
   ]
  },
  {
   "cell_type": "code",
   "execution_count": 2,
   "metadata": {
    "ExecuteTime": {
     "end_time": "2019-02-06T07:05:39.889347Z",
     "start_time": "2019-02-06T07:05:39.886775Z"
    }
   },
   "outputs": [],
   "source": [
    "# Download data if you haven't downloaded yet\n",
    "if False:\n",
    "    ! curl \"https://www.statcrunch.com/grabdata.php?dataid=1757964&_=1549340655570\" > \"../data/NLSY97.csv\""
   ]
  },
  {
   "cell_type": "code",
   "execution_count": 3,
   "metadata": {
    "ExecuteTime": {
     "end_time": "2019-02-06T07:05:39.917335Z",
     "start_time": "2019-02-06T07:05:39.892027Z"
    }
   },
   "outputs": [
    {
     "data": {
      "text/html": [
       "<div>\n",
       "<style scoped>\n",
       "    .dataframe tbody tr th:only-of-type {\n",
       "        vertical-align: middle;\n",
       "    }\n",
       "\n",
       "    .dataframe tbody tr th {\n",
       "        vertical-align: top;\n",
       "    }\n",
       "\n",
       "    .dataframe thead th {\n",
       "        text-align: right;\n",
       "    }\n",
       "</style>\n",
       "<table border=\"1\" class=\"dataframe\">\n",
       "  <thead>\n",
       "    <tr style=\"text-align: right;\">\n",
       "      <th></th>\n",
       "      <th>Gender</th>\n",
       "      <th>Age</th>\n",
       "      <th>Height (inches)</th>\n",
       "      <th>Weight (lbs)</th>\n",
       "      <th>How would you describe your weight?</th>\n",
       "    </tr>\n",
       "  </thead>\n",
       "  <tbody>\n",
       "    <tr>\n",
       "      <th>0</th>\n",
       "      <td>Female</td>\n",
       "      <td>18</td>\n",
       "      <td>67</td>\n",
       "      <td>150</td>\n",
       "      <td>Slightly overweight</td>\n",
       "    </tr>\n",
       "    <tr>\n",
       "      <th>1</th>\n",
       "      <td>Male</td>\n",
       "      <td>17</td>\n",
       "      <td>67</td>\n",
       "      <td>140</td>\n",
       "      <td>About the right weight</td>\n",
       "    </tr>\n",
       "    <tr>\n",
       "      <th>2</th>\n",
       "      <td>Female</td>\n",
       "      <td>16</td>\n",
       "      <td>67</td>\n",
       "      <td>100</td>\n",
       "      <td>Slightly underweight</td>\n",
       "    </tr>\n",
       "  </tbody>\n",
       "</table>\n",
       "</div>"
      ],
      "text/plain": [
       "   Gender  Age  Height (inches)  Weight (lbs)  \\\n",
       "0  Female   18               67           150   \n",
       "1    Male   17               67           140   \n",
       "2  Female   16               67           100   \n",
       "\n",
       "  How would you describe your weight?  \n",
       "0                 Slightly overweight  \n",
       "1              About the right weight  \n",
       "2                Slightly underweight  "
      ]
     },
     "execution_count": 3,
     "metadata": {},
     "output_type": "execute_result"
    }
   ],
   "source": [
    "# Read data\n",
    "df = pd.read_csv(\"../data/NLSY97.csv\", delimiter=\" \")\n",
    "df.head(3)"
   ]
  },
  {
   "cell_type": "code",
   "execution_count": 4,
   "metadata": {
    "ExecuteTime": {
     "end_time": "2019-02-06T07:05:39.931005Z",
     "start_time": "2019-02-06T07:05:39.919414Z"
    }
   },
   "outputs": [],
   "source": [
    "# Convert measurement units\n",
    "df[\"Height (cm)\"] = df[\"Height (inches)\"] * 2.54     # 1 inch = 2.54cm\n",
    "df[\"Weight (kg)\"] = df[\"Weight (lbs)\"] * 0.45359237  # 1 pound ~= 0.45kg"
   ]
  },
  {
   "cell_type": "code",
   "execution_count": 5,
   "metadata": {
    "ExecuteTime": {
     "end_time": "2019-02-06T07:05:39.942973Z",
     "start_time": "2019-02-06T07:05:39.933532Z"
    }
   },
   "outputs": [
    {
     "data": {
      "text/html": [
       "<div>\n",
       "<style scoped>\n",
       "    .dataframe tbody tr th:only-of-type {\n",
       "        vertical-align: middle;\n",
       "    }\n",
       "\n",
       "    .dataframe tbody tr th {\n",
       "        vertical-align: top;\n",
       "    }\n",
       "\n",
       "    .dataframe thead th {\n",
       "        text-align: right;\n",
       "    }\n",
       "</style>\n",
       "<table border=\"1\" class=\"dataframe\">\n",
       "  <thead>\n",
       "    <tr style=\"text-align: right;\">\n",
       "      <th></th>\n",
       "      <th>Gender</th>\n",
       "      <th>Height (cm)</th>\n",
       "      <th>Weight (kg)</th>\n",
       "    </tr>\n",
       "  </thead>\n",
       "  <tbody>\n",
       "    <tr>\n",
       "      <th>0</th>\n",
       "      <td>Female</td>\n",
       "      <td>170.18</td>\n",
       "      <td>68.038855</td>\n",
       "    </tr>\n",
       "    <tr>\n",
       "      <th>1</th>\n",
       "      <td>Male</td>\n",
       "      <td>170.18</td>\n",
       "      <td>63.502932</td>\n",
       "    </tr>\n",
       "    <tr>\n",
       "      <th>2</th>\n",
       "      <td>Female</td>\n",
       "      <td>170.18</td>\n",
       "      <td>45.359237</td>\n",
       "    </tr>\n",
       "  </tbody>\n",
       "</table>\n",
       "</div>"
      ],
      "text/plain": [
       "   Gender  Height (cm)  Weight (kg)\n",
       "0  Female       170.18    68.038855\n",
       "1    Male       170.18    63.502932\n",
       "2  Female       170.18    45.359237"
      ]
     },
     "execution_count": 5,
     "metadata": {},
     "output_type": "execute_result"
    }
   ],
   "source": [
    "# Take only what we are interested in\n",
    "df = df[[\"Gender\", \"Height (cm)\", \"Weight (kg)\"]]\n",
    "df.head(3)"
   ]
  },
  {
   "cell_type": "code",
   "execution_count": 6,
   "metadata": {
    "ExecuteTime": {
     "end_time": "2019-02-06T07:05:39.952001Z",
     "start_time": "2019-02-06T07:05:39.945058Z"
    }
   },
   "outputs": [],
   "source": [
    "male_df   = df[ df[\"Gender\"] == \"Male\" ]\n",
    "female_df = df[ df[\"Gender\"] == \"Female\" ]"
   ]
  },
  {
   "cell_type": "code",
   "execution_count": 7,
   "metadata": {
    "ExecuteTime": {
     "end_time": "2019-02-06T07:05:39.961405Z",
     "start_time": "2019-02-06T07:05:39.953806Z"
    }
   },
   "outputs": [
    {
     "data": {
      "text/html": [
       "<div>\n",
       "<style scoped>\n",
       "    .dataframe tbody tr th:only-of-type {\n",
       "        vertical-align: middle;\n",
       "    }\n",
       "\n",
       "    .dataframe tbody tr th {\n",
       "        vertical-align: top;\n",
       "    }\n",
       "\n",
       "    .dataframe thead th {\n",
       "        text-align: right;\n",
       "    }\n",
       "</style>\n",
       "<table border=\"1\" class=\"dataframe\">\n",
       "  <thead>\n",
       "    <tr style=\"text-align: right;\">\n",
       "      <th></th>\n",
       "      <th>Gender</th>\n",
       "      <th>Height (cm)</th>\n",
       "      <th>Weight (kg)</th>\n",
       "    </tr>\n",
       "  </thead>\n",
       "  <tbody>\n",
       "    <tr>\n",
       "      <th>1</th>\n",
       "      <td>Male</td>\n",
       "      <td>170.18</td>\n",
       "      <td>63.502932</td>\n",
       "    </tr>\n",
       "    <tr>\n",
       "      <th>4</th>\n",
       "      <td>Male</td>\n",
       "      <td>167.64</td>\n",
       "      <td>65.770894</td>\n",
       "    </tr>\n",
       "    <tr>\n",
       "      <th>6</th>\n",
       "      <td>Male</td>\n",
       "      <td>175.26</td>\n",
       "      <td>83.007404</td>\n",
       "    </tr>\n",
       "  </tbody>\n",
       "</table>\n",
       "</div>"
      ],
      "text/plain": [
       "  Gender  Height (cm)  Weight (kg)\n",
       "1   Male       170.18    63.502932\n",
       "4   Male       167.64    65.770894\n",
       "6   Male       175.26    83.007404"
      ]
     },
     "execution_count": 7,
     "metadata": {},
     "output_type": "execute_result"
    }
   ],
   "source": [
    "male_df.head(3)"
   ]
  },
  {
   "cell_type": "code",
   "execution_count": 8,
   "metadata": {
    "ExecuteTime": {
     "end_time": "2019-02-06T07:05:39.972794Z",
     "start_time": "2019-02-06T07:05:39.963846Z"
    }
   },
   "outputs": [
    {
     "data": {
      "text/html": [
       "<div>\n",
       "<style scoped>\n",
       "    .dataframe tbody tr th:only-of-type {\n",
       "        vertical-align: middle;\n",
       "    }\n",
       "\n",
       "    .dataframe tbody tr th {\n",
       "        vertical-align: top;\n",
       "    }\n",
       "\n",
       "    .dataframe thead th {\n",
       "        text-align: right;\n",
       "    }\n",
       "</style>\n",
       "<table border=\"1\" class=\"dataframe\">\n",
       "  <thead>\n",
       "    <tr style=\"text-align: right;\">\n",
       "      <th></th>\n",
       "      <th>Gender</th>\n",
       "      <th>Height (cm)</th>\n",
       "      <th>Weight (kg)</th>\n",
       "    </tr>\n",
       "  </thead>\n",
       "  <tbody>\n",
       "    <tr>\n",
       "      <th>0</th>\n",
       "      <td>Female</td>\n",
       "      <td>170.18</td>\n",
       "      <td>68.038855</td>\n",
       "    </tr>\n",
       "    <tr>\n",
       "      <th>2</th>\n",
       "      <td>Female</td>\n",
       "      <td>170.18</td>\n",
       "      <td>45.359237</td>\n",
       "    </tr>\n",
       "    <tr>\n",
       "      <th>3</th>\n",
       "      <td>Female</td>\n",
       "      <td>157.48</td>\n",
       "      <td>83.914588</td>\n",
       "    </tr>\n",
       "  </tbody>\n",
       "</table>\n",
       "</div>"
      ],
      "text/plain": [
       "   Gender  Height (cm)  Weight (kg)\n",
       "0  Female       170.18    68.038855\n",
       "2  Female       170.18    45.359237\n",
       "3  Female       157.48    83.914588"
      ]
     },
     "execution_count": 8,
     "metadata": {},
     "output_type": "execute_result"
    }
   ],
   "source": [
    "female_df.head(3)"
   ]
  },
  {
   "cell_type": "markdown",
   "metadata": {},
   "source": [
    "## Metody graficzne sprawdzenia zgodności z rozkładem\n",
    "\n",
    "Najszybszym i najprostszym sposobem sprawdzenia, jaki rozkład mają nasze dane, jest wizualizacja graficzna. Takie sprawdzenie jest jakościowe, a więc mniej dokładne od dokładnych formalnych testów statystycznych."
   ]
  },
  {
   "cell_type": "markdown",
   "metadata": {},
   "source": [
    "### Histogram"
   ]
  },
  {
   "cell_type": "markdown",
   "metadata": {},
   "source": [
    "#### Mężczyźni"
   ]
  },
  {
   "cell_type": "code",
   "execution_count": 9,
   "metadata": {
    "ExecuteTime": {
     "end_time": "2019-02-06T07:05:40.276357Z",
     "start_time": "2019-02-06T07:05:39.975145Z"
    }
   },
   "outputs": [
    {
     "data": {
      "image/png": "[encoded data removed]",
      "text/plain": [
       "<Figure size 432x288 with 1 Axes>"
      ]
     },
     "metadata": {
      "image/png": {
       "height": 269,
       "width": 383
      }
     },
     "output_type": "display_data"
    }
   ],
   "source": [
    "sns.distplot(male_df[\"Height (cm)\"]);"
   ]
  },
  {
   "cell_type": "code",
   "execution_count": 10,
   "metadata": {
    "ExecuteTime": {
     "end_time": "2019-02-06T07:05:40.284483Z",
     "start_time": "2019-02-06T07:05:40.278417Z"
    }
   },
   "outputs": [
    {
     "data": {
      "text/plain": [
       "6533    266.70\n",
       "5104    215.90\n",
       "3741    210.82\n",
       "Name: Height (cm), dtype: float64"
      ]
     },
     "execution_count": 10,
     "metadata": {},
     "output_type": "execute_result"
    }
   ],
   "source": [
    "male_df[\"Height (cm)\"].sort_values(ascending=False).head(3)"
   ]
  },
  {
   "cell_type": "markdown",
   "metadata": {},
   "source": [
    "Kształt rozkładu empirycznego wzrostu mężczyzn przypomina wykres rozkładu Gaussa, ale niestety wykres nie jest wycentrowany. Wykres ma \"długi ogon\" po prawej stronie. Jest to spowodowane jedną obserwacją, która odstaje od innych. Biorąc pod uwagę fakt, że [najwyższy człowiek świata](https://pl.wikipedia.org/wiki/Robert_Wadlow) osiągnął wzrost 272 cm, wartość 266.7 cm należy uznać za prawidłową, ekstremalnie odstającą."
   ]
  },
  {
   "cell_type": "markdown",
   "metadata": {},
   "source": [
    "#### Kobiety"
   ]
  },
  {
   "cell_type": "code",
   "execution_count": 11,
   "metadata": {
    "ExecuteTime": {
     "end_time": "2019-02-06T07:05:40.581217Z",
     "start_time": "2019-02-06T07:05:40.286339Z"
    }
   },
   "outputs": [
    {
     "data": {
      "image/png": "[encoded data removed]",
      "text/plain": [
       "<Figure size 432x288 with 1 Axes>"
      ]
     },
     "metadata": {
      "image/png": {
       "height": 269,
       "width": 385
      }
     },
     "output_type": "display_data"
    }
   ],
   "source": [
    "sns.distplot(female_df[\"Height (cm)\"]);"
   ]
  },
  {
   "cell_type": "code",
   "execution_count": 12,
   "metadata": {
    "ExecuteTime": {
     "end_time": "2019-02-06T07:05:40.589620Z",
     "start_time": "2019-02-06T07:05:40.583514Z"
    }
   },
   "outputs": [
    {
     "data": {
      "text/plain": [
       "6607     66.04\n",
       "7112     96.52\n",
       "7628    124.46\n",
       "Name: Height (cm), dtype: float64"
      ]
     },
     "execution_count": 12,
     "metadata": {},
     "output_type": "execute_result"
    }
   ],
   "source": [
    "female_df[\"Height (cm)\"].sort_values(ascending=True).head(3)"
   ]
  },
  {
   "cell_type": "markdown",
   "metadata": {},
   "source": [
    "Kształt rozkładu empirycznego wzrostu kobiet przypomina wykres rozkładu Gaussa, ale niestety wykres nie jest wycentrowany. Jest to spowodowane dwoma obserwacjami odstającymi z niskimi wartościami wzrostu, przez co wykres ma \"długi ogon\" po lewej stronie. Najprawdopodobniej w próbie statystycznej znalazły się osoby charakteryzujące się [karłowatością](https://pl.wikipedia.org/wiki/Niedob%C3%B3r_wzrostu)."
   ]
  },
  {
   "cell_type": "markdown",
   "metadata": {},
   "source": [
    "### Wykres kwantyl-kwantyl"
   ]
  },
  {
   "cell_type": "markdown",
   "metadata": {},
   "source": [
    "Wykres kwantyl-kwantyl (ang. *quantile-quantile plot* lub **normal probability plot**) metoda, która umożliwia ocenę, które czynniki wpływają na odstępstwo od normalności (czy są to obserwacje ekstremalne, czy rozkład nie jest symetryczny, czy jest on nadmiernie lub niedostatecznie skoncentrowany wokół średniej).\n",
    "\n",
    "Na wykresie sprawdzamy, czy kwartyle teoretyczne oraz empiryczne układają się na prostej, co wskazałoby, że wartości statystyk porządkowych z próby (kwantyle empiryczne) są proporcjonalne do kwantyli teoretycznych, a to wskazuje, że rozkład zmiennej jest zgodny z założonym rozkładem teoretycznym."
   ]
  },
  {
   "cell_type": "markdown",
   "metadata": {},
   "source": [
    "#### Mężczyźni"
   ]
  },
  {
   "cell_type": "code",
   "execution_count": 13,
   "metadata": {
    "ExecuteTime": {
     "end_time": "2019-02-06T07:05:40.809632Z",
     "start_time": "2019-02-06T07:05:40.591691Z"
    }
   },
   "outputs": [
    {
     "data": {
      "image/png": "[encoded data removed]",
      "text/plain": [
       "<Figure size 432x288 with 1 Axes>"
      ]
     },
     "metadata": {
      "image/png": {
       "height": 269,
       "width": 395
      }
     },
     "output_type": "display_data"
    }
   ],
   "source": [
    "sm.qqplot(male_df[\"Height (cm)\"], line='s');"
   ]
  },
  {
   "cell_type": "markdown",
   "metadata": {},
   "source": [
    "Dane przedstawione w postaci wykresu punktowego układają się w kształt prostej linii i w dużym stopniu pokrywają się z linią prostą wyznaczoną dla idealnego rozkładu Gaussa. Niemniej zauważyć można pewne odstępstwa dla kilku wartości najmniejszych (które są poniżej prostej) oraz kilku największych (które są powyżej prostej). Oznacza to, że rozkład badanej cechy ma [\"długie ogony\"](https://www.youtube.com/watch?v=smJBsZ4YQZw&list=PLkIselvEzpM6V9h55s0l9Kzivih9BUWeW) (dłuższe niż w rozkładzie normalnym). Ogon jest szczególnie wydłużony po prawej stronie, bowiem wykres punktowy mocno unosi się do góry."
   ]
  },
  {
   "cell_type": "markdown",
   "metadata": {},
   "source": [
    "#### Kobiety"
   ]
  },
  {
   "cell_type": "code",
   "execution_count": 14,
   "metadata": {
    "ExecuteTime": {
     "end_time": "2019-02-06T07:05:41.033680Z",
     "start_time": "2019-02-06T07:05:40.811570Z"
    }
   },
   "outputs": [
    {
     "data": {
      "image/png": "[encoded data removed]",
      "text/plain": [
       "<Figure size 432x288 with 1 Axes>"
      ]
     },
     "metadata": {
      "image/png": {
       "height": 269,
       "width": 395
      }
     },
     "output_type": "display_data"
    }
   ],
   "source": [
    "sm.qqplot(female_df[\"Height (cm)\"], line='s');"
   ]
  },
  {
   "cell_type": "markdown",
   "metadata": {},
   "source": [
    "Dane przedstawione w postaci wykresu punktowego układają się w kształt prostej linii i w dużym stopniu pokrywają się z linią prostą wyznaczoną dla idealnego rozkładu Gaussa. \n",
    "\n",
    "Dodatkowo zauważyć można pewne odstępstwa dla kilku wartości najmniejszych (które są poniżej prostej) oraz kilku największych (które są powyżej prostej). Oznacza to, że rozkład badanej cechy ma \"długie ogony\" (dłuższe niż w rozkładzie normalnym). Ogon jest szczególnie wydłużony po lewej stronie, bowiem wykres punktowy mocno opada w dół."
   ]
  },
  {
   "cell_type": "markdown",
   "metadata": {},
   "source": [
    "## Testy statystyczne"
   ]
  },
  {
   "cell_type": "markdown",
   "metadata": {},
   "source": [
    "Istnieje wiele testów statystycznych, które można użyć do policzenia, czy próba pochodzi z populacji o rozkładzie normalnym. Każdy z testów ma inne założenia oraz analizuje dane pod innym kątem.\n",
    "\n",
    "W czasie testów hipoteza zerowa i alternatywna mają następującą postać:\n",
    "* H<sub>0</sub>: Rozkład badanej cechy jest rozkładem normalnym\n",
    "* H<sub>A</sub>: Rozkład badanej cechy nie jest rozkładem normalnym\n",
    "\n",
    "### Interpretacja wyników\n",
    "Każdy z testów zwraca przynajmniej dwa wyniki:\n",
    "* **wartość statystyki** - wartość empiryczna statystyki testowej wyliczona na podstawie danych podstawionych do konkretnego wzoru (każdy test ma swój osobny wzór statystyki testowej).\n",
    "* **p-value** - którą używa się do oceny tego, czy dane mają rozkład normalny, czy nie.\n",
    "\n",
    "Do interpretacji **p-value** potrzebne jest ustalenie **poziomu istotności $\\alpha$**, czyli maksymalnego ryzyka błędu, jakie badacz jest skłonny zaakceptować. Zazwyczaj przyjmuje się $\\alpha=0.05$; rzadziej 0.03, 0.01.\n",
    "\n",
    "Wyliczona wartość p-value porównywana jest z poziomem istotności. Interpretacja jest następująca:\n",
    "* **p-value <= $\\alpha$** - odrzucamy H<sub>0</sub>, dane ***nie mają rozkładu normalnego***.\n",
    "* **p-value > $\\alpha$** - brak podstaw do odrzucenia H<sub>0</sub>, dane ***mają rozkład normalny***.\n",
    "\n",
    "W praktyce zależy nam na otrzymaniu dużych wartości p-value, by potwierdzić, że nasze dane mają rozkład normalny."
   ]
  },
  {
   "cell_type": "markdown",
   "metadata": {},
   "source": [
    "### Test Shapiro-Wilka"
   ]
  },
  {
   "cell_type": "code",
   "execution_count": 15,
   "metadata": {
    "ExecuteTime": {
     "end_time": "2019-02-06T07:05:41.039196Z",
     "start_time": "2019-02-06T07:05:41.035757Z"
    }
   },
   "outputs": [],
   "source": [
    "def shapiro_wilk_test(data, alpha=0.05):\n",
    "    statistic, pvalue = stats.shapiro(data)\n",
    "    print(\"Statistic={:.4f}, p-value={}\".format(statistic, pvalue))\n",
    "    if pvalue > alpha:\n",
    "        print(\"Sample looks Gaussian (fail to reject H0)\")\n",
    "        return True\n",
    "    else:\n",
    "        print(\"Sample does not look Gaussian (reject H0)\")\n",
    "        return False"
   ]
  },
  {
   "cell_type": "markdown",
   "metadata": {},
   "source": [
    "#### Mężczyźni"
   ]
  },
  {
   "cell_type": "code",
   "execution_count": 16,
   "metadata": {
    "ExecuteTime": {
     "end_time": "2019-02-06T07:05:41.045105Z",
     "start_time": "2019-02-06T07:05:41.041589Z"
    },
    "scrolled": true
   },
   "outputs": [
    {
     "name": "stdout",
     "output_type": "stream",
     "text": [
      "Statistic=0.9768, p-value=1.7649029725518982e-25\n",
      "Sample does not look Gaussian (reject H0)\n"
     ]
    }
   ],
   "source": [
    "shapiro_wilk_test(male_df[\"Height (cm)\"]);"
   ]
  },
  {
   "cell_type": "markdown",
   "metadata": {},
   "source": [
    "#### Kobiety"
   ]
  },
  {
   "cell_type": "code",
   "execution_count": 17,
   "metadata": {
    "ExecuteTime": {
     "end_time": "2019-02-06T07:05:41.050190Z",
     "start_time": "2019-02-06T07:05:41.046900Z"
    }
   },
   "outputs": [
    {
     "name": "stdout",
     "output_type": "stream",
     "text": [
      "Statistic=0.9528, p-value=3.6232241712408732e-34\n",
      "Sample does not look Gaussian (reject H0)\n"
     ]
    }
   ],
   "source": [
    "shapiro_wilk_test(female_df[\"Height (cm)\"]);"
   ]
  },
  {
   "cell_type": "markdown",
   "metadata": {},
   "source": [
    "### Test D'Agostino K<sup>2</sup>"
   ]
  },
  {
   "cell_type": "code",
   "execution_count": 18,
   "metadata": {
    "ExecuteTime": {
     "end_time": "2019-02-06T07:05:41.054551Z",
     "start_time": "2019-02-06T07:05:41.051727Z"
    }
   },
   "outputs": [],
   "source": [
    "def dagostino_k2_test(data, alpha=0.05):\n",
    "    statistic, pvalue = stats.normaltest(data)\n",
    "    print(\"Statistic={:.4f}, p-value={}\".format(statistic, pvalue))\n",
    "    if pvalue > alpha:\n",
    "        print(\"Sample looks Gaussian (fail to reject H0)\")\n",
    "        return True\n",
    "    else:\n",
    "        print(\"Sample does not look Gaussian (reject H0)\")\n",
    "        return False"
   ]
  },
  {
   "cell_type": "markdown",
   "metadata": {},
   "source": [
    "#### Mężczyźni"
   ]
  },
  {
   "cell_type": "code",
   "execution_count": 19,
   "metadata": {
    "ExecuteTime": {
     "end_time": "2019-02-06T07:05:41.061918Z",
     "start_time": "2019-02-06T07:05:41.056398Z"
    }
   },
   "outputs": [
    {
     "name": "stdout",
     "output_type": "stream",
     "text": [
      "Statistic=324.8584, p-value=2.8700905055493447e-71\n",
      "Sample does not look Gaussian (reject H0)\n"
     ]
    }
   ],
   "source": [
    "dagostino_k2_test(male_df[\"Height (cm)\"]);"
   ]
  },
  {
   "cell_type": "markdown",
   "metadata": {},
   "source": [
    "#### Kobiety"
   ]
  },
  {
   "cell_type": "code",
   "execution_count": 20,
   "metadata": {
    "ExecuteTime": {
     "end_time": "2019-02-06T07:05:41.071033Z",
     "start_time": "2019-02-06T07:05:41.065540Z"
    }
   },
   "outputs": [
    {
     "name": "stdout",
     "output_type": "stream",
     "text": [
      "Statistic=917.4759, p-value=5.924241743448629e-200\n",
      "Sample does not look Gaussian (reject H0)\n"
     ]
    }
   ],
   "source": [
    "dagostino_k2_test(female_df[\"Height (cm)\"]);"
   ]
  },
  {
   "cell_type": "markdown",
   "metadata": {},
   "source": [
    "### Test Anderson-Darlinga"
   ]
  },
  {
   "cell_type": "markdown",
   "metadata": {},
   "source": [
    "Test ten jest modyfikacją testu Kolmogorova-Smirnova (K-S)."
   ]
  },
  {
   "cell_type": "code",
   "execution_count": 21,
   "metadata": {
    "ExecuteTime": {
     "end_time": "2019-02-06T07:05:41.077081Z",
     "start_time": "2019-02-06T07:05:41.072904Z"
    }
   },
   "outputs": [],
   "source": [
    "def anderson_test(data):\n",
    "    result = stats.anderson(data)\n",
    "    print('Statistic: %.3f' % result.statistic)\n",
    "    for i in range(len(result.critical_values)):\n",
    "        sl, cv = result.significance_level[i], result.critical_values[i]\n",
    "        if result.statistic < result.critical_values[i]:\n",
    "            print('%.3f: %.3f, data looks normal (fail to reject H0)' % (sl, cv))\n",
    "        else:\n",
    "            print('%.3f: %.3f, data does not look normal (reject H0)' % (sl, cv))"
   ]
  },
  {
   "cell_type": "markdown",
   "metadata": {},
   "source": [
    "#### Mężczyźni"
   ]
  },
  {
   "cell_type": "code",
   "execution_count": 22,
   "metadata": {
    "ExecuteTime": {
     "end_time": "2019-02-06T07:05:41.083646Z",
     "start_time": "2019-02-06T07:05:41.078815Z"
    }
   },
   "outputs": [
    {
     "name": "stdout",
     "output_type": "stream",
     "text": [
      "Statistic: 18.945\n",
      "15.000: 0.575, data does not look normal (reject H0)\n",
      "10.000: 0.655, data does not look normal (reject H0)\n",
      "5.000: 0.786, data does not look normal (reject H0)\n",
      "2.500: 0.917, data does not look normal (reject H0)\n",
      "1.000: 1.091, data does not look normal (reject H0)\n"
     ]
    }
   ],
   "source": [
    "anderson_test(male_df[\"Height (cm)\"]);"
   ]
  },
  {
   "cell_type": "markdown",
   "metadata": {},
   "source": [
    "#### Kobiety"
   ]
  },
  {
   "cell_type": "code",
   "execution_count": 23,
   "metadata": {
    "ExecuteTime": {
     "end_time": "2019-02-06T07:05:41.090419Z",
     "start_time": "2019-02-06T07:05:41.085655Z"
    }
   },
   "outputs": [
    {
     "name": "stdout",
     "output_type": "stream",
     "text": [
      "Statistic: 23.853\n",
      "15.000: 0.575, data does not look normal (reject H0)\n",
      "10.000: 0.655, data does not look normal (reject H0)\n",
      "5.000: 0.786, data does not look normal (reject H0)\n",
      "2.500: 0.917, data does not look normal (reject H0)\n",
      "1.000: 1.091, data does not look normal (reject H0)\n"
     ]
    }
   ],
   "source": [
    "anderson_test(female_df[\"Height (cm)\"]);"
   ]
  },
  {
   "cell_type": "code",
   "execution_count": null,
   "metadata": {},
   "outputs": [],
   "source": []
  },
  {
   "cell_type": "code",
   "execution_count": null,
   "metadata": {},
   "outputs": [],
   "source": []
  },
  {
   "cell_type": "code",
   "execution_count": null,
   "metadata": {},
   "outputs": [],
   "source": []
  },
  {
   "cell_type": "markdown",
   "metadata": {},
   "source": [
    "TODO: \n",
    "* dodać wyjaśnienie, dlaczego testowanie rozkładu jest ważne (z punktu widzenia modeli ML)"
   ]
  },
  {
   "cell_type": "code",
   "execution_count": null,
   "metadata": {},
   "outputs": [],
   "source": []
  }
 ],
 "metadata": {
  "kernelspec": {
   "display_name": "Python [conda env:anaconda]",
   "language": "python",
   "name": "conda-env-anaconda-py"
  },
  "language_info": {
   "codemirror_mode": {
    "name": "ipython",
    "version": 3
   },
   "file_extension": ".py",
   "mimetype": "text/x-python",
   "name": "python",
   "nbconvert_exporter": "python",
   "pygments_lexer": "ipython3",
   "version": "3.6.8"
  },
  "toc": {
   "base_numbering": 1,
   "nav_menu": {},
   "number_sections": true,
   "sideBar": true,
   "skip_h1_title": false,
   "title_cell": "Table of Contents",
   "title_sidebar": "Contents",
   "toc_cell": false,
   "toc_position": {
    "height": "calc(100% - 180px)",
    "left": "10px",
    "top": "150px",
    "width": "183.594px"
   },
   "toc_section_display": true,
   "toc_window_display": false
  }
 },
 "nbformat": 4,
 "nbformat_minor": 2
}
